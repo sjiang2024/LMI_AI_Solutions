{
 "cells": [
  {
   "cell_type": "markdown",
   "id": "56de3561",
   "metadata": {},
   "source": [
    "# 1. Run inference"
   ]
  },
  {
   "cell_type": "code",
   "execution_count": null,
   "id": "c558bb66",
   "metadata": {},
   "outputs": [],
   "source": [
    "%run ../../../yolov5/detect.py --source ./data/2022-01-08_640_yolo/images --weights ./training/2022-01-08_640/weights/best.pt --conf-thres 0.5 --img 640 --project ./validation --name 2022-01-08_640 --save-csv --exist-ok"
   ]
  },
  {
   "cell_type": "markdown",
   "id": "9bf6fd25",
   "metadata": {},
   "source": [
    "# 2. Show some results"
   ]
  },
  {
   "cell_type": "code",
   "execution_count": null,
   "id": "3d4531e7",
   "metadata": {},
   "outputs": [],
   "source": [
    "#show some randomly sampled results\n",
    "import cv2\n",
    "import glob\n",
    "import random\n",
    "path_imgs = glob.glob('./validation/2022-01-08_640/*.png')\n",
    "L = 10\n",
    "random.seed(777)\n",
    "sampled_paths = random.sample(path_imgs, L)\n",
    "for p in sampled_paths:\n",
    "    im = cv2.imread(p)\n",
    "    cv2.imshow('im',im)\n",
    "    cv2.waitKey(0)\n",
    "cv2.destroyAllWindows() "
   ]
  },
  {
   "cell_type": "markdown",
   "id": "8aa5d66b",
   "metadata": {},
   "source": [
    "# 3. Annotation - VGG annotator"
   ]
  },
  {
   "cell_type": "code",
   "execution_count": null,
   "id": "d85da440",
   "metadata": {},
   "outputs": [],
   "source": []
  }
 ],
 "metadata": {
  "kernelspec": {
   "display_name": "Python 3 (ipykernel)",
   "language": "python",
   "name": "python3"
  },
  "language_info": {
   "codemirror_mode": {
    "name": "ipython",
    "version": 3
   },
   "file_extension": ".py",
   "mimetype": "text/x-python",
   "name": "python",
   "nbconvert_exporter": "python",
   "pygments_lexer": "ipython3",
   "version": "3.8.10"
  }
 },
 "nbformat": 4,
 "nbformat_minor": 5
}
