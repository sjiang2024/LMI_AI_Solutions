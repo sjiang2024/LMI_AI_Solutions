{
 "cells": [
  {
   "cell_type": "markdown",
   "id": "c194cb4b",
   "metadata": {},
   "source": [
    "# 1. Activate the following environments before running this notebook"
   ]
  },
  {
   "cell_type": "markdown",
   "id": "eba55ee1",
   "metadata": {},
   "source": [
    ">1a. lmi_ai.env"
   ]
  },
  {
   "cell_type": "markdown",
   "id": "597c2b2d",
   "metadata": {},
   "source": [
    ">1b. python virtual environments"
   ]
  },
  {
   "cell_type": "markdown",
   "id": "83507e5e",
   "metadata": {},
   "source": [
    "ensure that you are currently in this directory: 'LMI_AI_Solutions/object_detectors/examples/thinFilm/yolov5'"
   ]
  },
  {
   "cell_type": "markdown",
   "id": "fa6e7736",
   "metadata": {},
   "source": [
    "# 2. Prepare datasets for training"
   ]
  },
  {
   "cell_type": "markdown",
   "id": "ce19939f",
   "metadata": {},
   "source": [
    "## 2a. Data annotation - VGG annotator"
   ]
  },
  {
   "cell_type": "markdown",
   "id": "0a83cb7f",
   "metadata": {},
   "source": [
    "## 2b. Convert json annotations to csv format"
   ]
  },
  {
   "cell_type": "code",
   "execution_count": null,
   "id": "57d8b9ea",
   "metadata": {},
   "outputs": [],
   "source": [
    "%run -m via_json_to_csv -- --data_path ./data/allImages_1024 --output_fname labels.csv"
   ]
  },
  {
   "cell_type": "markdown",
   "id": "2eeac8e3",
   "metadata": {},
   "source": [
    "## 2c. Resize images and annotations"
   ]
  },
  {
   "cell_type": "code",
   "execution_count": null,
   "id": "c90239d4",
   "metadata": {
    "scrolled": false
   },
   "outputs": [],
   "source": [
    "%run -m resize_images_with_csv -- -i ./data/allImages_1024 --out_imsz 640,640 -o ./data/2022-01-08_640"
   ]
  },
  {
   "cell_type": "markdown",
   "id": "e8d246b3",
   "metadata": {},
   "source": [
    "## 2d. Convert to YOLO file format"
   ]
  },
  {
   "cell_type": "code",
   "execution_count": null,
   "id": "0d7495e8",
   "metadata": {},
   "outputs": [],
   "source": [
    "%run ../../../yolov5/preprocess/convert_data_to_yolo.py -i ./data/2022-01-08_640 -o ./data/2022-01-08_640_yolo"
   ]
  },
  {
   "cell_type": "markdown",
   "id": "19081338",
   "metadata": {},
   "source": [
    "# 3. Download Pre-trained COCO model"
   ]
  },
  {
   "cell_type": "code",
   "execution_count": null,
   "id": "beeee919",
   "metadata": {},
   "outputs": [],
   "source": [
    "%rm -r ./pretrained-models\n",
    "%mkdir ./pretrained-models\n",
    "!wget https://github.com/ultralytics/yolov5/releases/download/v6.0/yolov5s.pt -P ./pretrained-models"
   ]
  },
  {
   "cell_type": "markdown",
   "id": "77b1ae9b",
   "metadata": {},
   "source": [
    "# 4. Ensure the order of class names are same"
   ]
  },
  {
   "cell_type": "code",
   "execution_count": null,
   "id": "70e29f23",
   "metadata": {},
   "outputs": [],
   "source": [
    "!cat ./config/2022-01-08_640.yaml"
   ]
  },
  {
   "cell_type": "code",
   "execution_count": null,
   "id": "16aefe93",
   "metadata": {},
   "outputs": [],
   "source": [
    "!cat ./data/2022-01-08_640_yolo/class_map.json"
   ]
  },
  {
   "cell_type": "markdown",
   "id": "c5161a49",
   "metadata": {},
   "source": [
    "# 5. Train the model"
   ]
  },
  {
   "cell_type": "code",
   "execution_count": null,
   "id": "69556c00",
   "metadata": {},
   "outputs": [],
   "source": [
    "%run ../../../yolov5/train.py --img 640 --batch 16 --epoch 600 --data ./config/2022-01-08_640.yaml --weights ./pretrained-models/yolov5s.pt --project ./training --name 2022-01-08_640_temp --exist-ok"
   ]
  },
  {
   "cell_type": "markdown",
   "id": "1bdfe697",
   "metadata": {},
   "source": [
    "# 6. Monitor the training process using Tensorboard"
   ]
  },
  {
   "cell_type": "code",
   "execution_count": null,
   "id": "ef6be0a2",
   "metadata": {},
   "outputs": [],
   "source": [
    "!tensorboard --logdir ./training/2022-01-08_640"
   ]
  },
  {
   "cell_type": "markdown",
   "id": "3a01f63a",
   "metadata": {},
   "source": [
    "# 7. Run inference after training"
   ]
  },
  {
   "cell_type": "code",
   "execution_count": null,
   "id": "e87dfdc2",
   "metadata": {},
   "outputs": [],
   "source": [
    "%run ../../../yolov5/detect.py --source ./data/2022-01-08_640_yolo/images --weights ./training/2022-01-08_640/weights/best.pt --conf-thres 0.5 --img 640 --project ./validation --name 2022-01-08_640 --save-csv --exist-ok"
   ]
  },
  {
   "cell_type": "markdown",
   "id": "3357eea7",
   "metadata": {},
   "source": [
    "# 8. Evaluate the trained model"
   ]
  },
  {
   "cell_type": "code",
   "execution_count": null,
   "id": "8d20431a",
   "metadata": {},
   "outputs": [],
   "source": [
    "#calculate the IOU (intersection over union)\n",
    "%run -m iou_from_csv -- --manual_csv ./data/2022-01-08_640/labels.csv --model_csv ./validation/2022-01-08_640/preds.csv --data_dir ./data/2022-01-08_640 --output_dir ./validation/2022-01-08_640_iou"
   ]
  }
 ],
 "metadata": {
  "kernelspec": {
   "display_name": "Python 3 (ipykernel)",
   "language": "python",
   "name": "python3"
  },
  "language_info": {
   "codemirror_mode": {
    "name": "ipython",
    "version": 3
   },
   "file_extension": ".py",
   "mimetype": "text/x-python",
   "name": "python",
   "nbconvert_exporter": "python",
   "pygments_lexer": "ipython3",
   "version": "3.8.10"
  }
 },
 "nbformat": 4,
 "nbformat_minor": 5
}
